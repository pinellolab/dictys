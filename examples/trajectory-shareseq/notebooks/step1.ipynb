{
 "cells": [
  {
   "cell_type": "markdown",
   "metadata": {},
   "source": [
    "# Trajectory inference with STREAM\n",
    "This notebook performs trajectory inference in a custom environment and exports trajectory data to individual files for further preprocessing by Dictys in traj-step2.ipynb to integrate it into the pipeline input.\n",
    "\n",
    "Here STREAM is used in its designated anaconda environment (https://github.com/pinellolab/STREAM and its installation instructions). This notebook is based on its tutorial (https://nbviewer.org/github/pinellolab/STREAM/blob/master/tutorial/1.1.STREAM_scRNA-seq%20%28Bifurcation%29.ipynb?flush_cache=true). Check its other tutorials if needed.\n",
    "\n",
    "Any trajectory inference software can be used as long as it outputs the trajectory (as nodes and edges) and each cell's location on the trajectory (either as edge & location on the trajectory, or as distance to each node). See different constructors of `dictys.traj.trajectory` and `dictys.traj.point`. Only tree-shaped trajectory is allowed."
   ]
  },
  {
   "cell_type": "code",
   "execution_count": 2,
   "metadata": {},
   "outputs": [
    {
     "name": "stderr",
     "output_type": "stream",
     "text": [
      "/data/pinello/SHARED_SOFTWARE/anaconda_latest/envs/lingfei_dynet_stream2/lib/python3.7/site-packages/rpy2/robjects/pandas2ri.py:17: FutureWarning: pandas.core.index is deprecated and will be removed in a future version.  The public classes are available in the top-level namespace.\n",
      "  from pandas.core.index import Index as PandasIndex\n"
     ]
    },
    {
     "data": {
      "text/plain": [
       "'1.0'"
      ]
     },
     "execution_count": 2,
     "metadata": {},
     "output_type": "execute_result"
    }
   ],
   "source": [
    "import os\n",
    "os.environ[\"OMP_NUM_THREADS\"] = \"128\"\n",
    "import anndata as ad\n",
    "import pandas as pd\n",
    "import numpy as np\n",
    "import matplotlib.pyplot as plt\n",
    "import stream as st\n",
    "from tempfile import TemporaryDirectory\n",
    "st.__version__\n"
   ]
  },
  {
   "cell_type": "markdown",
   "metadata": {},
   "source": [
    "## Load data"
   ]
  },
  {
   "cell_type": "code",
   "execution_count": 3,
   "metadata": {},
   "outputs": [
    {
     "name": "stdout",
     "output_type": "stream",
     "text": [
      "(6436, 2)\n"
     ]
    },
    {
     "data": {
      "text/html": [
       "<div>\n",
       "<style scoped>\n",
       "    .dataframe tbody tr th:only-of-type {\n",
       "        vertical-align: middle;\n",
       "    }\n",
       "\n",
       "    .dataframe tbody tr th {\n",
       "        vertical-align: top;\n",
       "    }\n",
       "\n",
       "    .dataframe thead th {\n",
       "        text-align: right;\n",
       "    }\n",
       "</style>\n",
       "<table border=\"1\" class=\"dataframe\">\n",
       "  <thead>\n",
       "    <tr style=\"text-align: right;\">\n",
       "      <th></th>\n",
       "      <th>x</th>\n",
       "      <th>y</th>\n",
       "    </tr>\n",
       "  </thead>\n",
       "  <tbody>\n",
       "    <tr>\n",
       "      <th>Trial60.skin.R1.01.R2.02.R3.21.P1.56</th>\n",
       "      <td>1.760810</td>\n",
       "      <td>-8.762940</td>\n",
       "    </tr>\n",
       "    <tr>\n",
       "      <th>Trial60.skin.R1.01.R2.03.R3.61.P1.54</th>\n",
       "      <td>8.376727</td>\n",
       "      <td>-13.873216</td>\n",
       "    </tr>\n",
       "    <tr>\n",
       "      <th>Trial60.skin.R1.01.R2.06.R3.64.P1.56</th>\n",
       "      <td>3.499622</td>\n",
       "      <td>-8.509009</td>\n",
       "    </tr>\n",
       "    <tr>\n",
       "      <th>Trial60.skin.R1.01.R2.06.R3.83.P1.55</th>\n",
       "      <td>1.287024</td>\n",
       "      <td>-9.679595</td>\n",
       "    </tr>\n",
       "    <tr>\n",
       "      <th>Trial60.skin.R1.01.R2.11.R3.86.P1.56</th>\n",
       "      <td>1.679156</td>\n",
       "      <td>-8.890386</td>\n",
       "    </tr>\n",
       "  </tbody>\n",
       "</table>\n",
       "</div>"
      ],
      "text/plain": [
       "                                             x          y\n",
       "Trial60.skin.R1.01.R2.02.R3.21.P1.56  1.760810  -8.762940\n",
       "Trial60.skin.R1.01.R2.03.R3.61.P1.54  8.376727 -13.873216\n",
       "Trial60.skin.R1.01.R2.06.R3.64.P1.56  3.499622  -8.509009\n",
       "Trial60.skin.R1.01.R2.06.R3.83.P1.55  1.287024  -9.679595\n",
       "Trial60.skin.R1.01.R2.11.R3.86.P1.56  1.679156  -8.890386"
      ]
     },
     "execution_count": 3,
     "metadata": {},
     "output_type": "execute_result"
    }
   ],
   "source": [
    "# Input file path of low-dimensional coordinates for cells to infer trajectory\n",
    "# Cells not to be included in trajectory inference should have been removed in this file\n",
    "fname='../data/coord_rna.tsv.gz'\n",
    "d=pd.read_csv(fname,header=0,index_col=0,sep='\\t')\n",
    "ns=d.shape[0]\n",
    "print(d.shape)\n",
    "d.head()\n"
   ]
  },
  {
   "cell_type": "markdown",
   "metadata": {},
   "source": [
    "## Trajectory inference"
   ]
  },
  {
   "cell_type": "code",
   "execution_count": 4,
   "metadata": {},
   "outputs": [
    {
     "name": "stdout",
     "output_type": "stream",
     "text": [
      "Saving results in: /dev/shm/lw554/tmp/tmpzfier0im\n",
      "No initial structure is seeded\n",
      "Learning elastic principal graph...\n",
      "[1]\n",
      " \"Generating the initial configuration\"\n",
      "\n",
      "\n",
      "[1]\n",
      " \"Creating a chain in the 1st PC with 2 nodes\"\n",
      "\n",
      "\n",
      "[1]\n",
      " \"Constructing tree 1 of 1 / Subset 1 of 1\"\n",
      "\n",
      "\n",
      "[1]\n",
      " \"The elastic matrix is being used. Edge configuration will be ignored\"\n",
      "\n",
      "\n",
      "[1]\n",
      " \"Computing EPG with 50 nodes on 6436 points and 2 dimensions\"\n",
      "\n",
      "\n",
      "[1]\n",
      " \"Using a single core\"\n",
      "\n",
      "\n",
      "Nodes = \n",
      "2\n",
      " \n",
      "3\n",
      " \n",
      "4\n",
      " \n",
      "5\n",
      " \n",
      "6\n",
      " \n",
      "7\n",
      " \n",
      "8\n",
      " \n",
      "9\n",
      " \n",
      "10\n",
      " \n",
      "11\n",
      " \n",
      "12\n",
      " \n",
      "13\n",
      " \n",
      "14\n",
      " \n",
      "15\n",
      " \n",
      "16\n",
      " \n",
      "17\n",
      " \n",
      "18\n",
      " \n",
      "19\n",
      " \n",
      "20\n",
      " \n",
      "21\n",
      " \n",
      "22\n",
      " \n",
      "23\n",
      " \n",
      "24\n",
      " \n",
      "25\n",
      " \n",
      "26\n",
      " \n",
      "27\n",
      " \n",
      "28\n",
      " \n",
      "29\n",
      " \n",
      "30\n",
      " \n",
      "31\n",
      " \n",
      "32\n",
      " \n",
      "33\n",
      " \n",
      "34\n",
      " \n",
      "35\n",
      " \n",
      "36\n",
      " \n",
      "37\n",
      " \n",
      "38\n",
      " \n",
      "39\n",
      " \n",
      "40\n",
      " \n",
      "41\n",
      " \n",
      "42\n",
      " \n",
      "43\n",
      " \n",
      "44\n",
      " \n",
      "45\n",
      " \n",
      "46\n",
      " \n",
      "47\n",
      " \n",
      "48\n",
      " \n",
      "49\n",
      " \n",
      "\n",
      "\n",
      "BARCODE\tENERGY\tNNODES\tNEDGES\tNRIBS\tNSTARS\tNRAYS\tNRAYS2\tMSE\tMSEP\tFVE\tFVEP\tUE\tUR\tURN\tURN2\tURSD\n",
      "\n",
      "1||50\n",
      "\t\n",
      "0.5861\n",
      "\t\n",
      "50\n",
      "\t\n",
      "49\n",
      "\t\n",
      "46\n",
      "\t\n",
      "1\n",
      "\t\n",
      "0\n",
      "\t\n",
      "0\n",
      "\t\n",
      "0.267\n",
      "\t\n",
      "0.2634\n",
      "\t\n",
      "0.9726\n",
      "\t\n",
      "0.973\n",
      "\t\n",
      "0.3076\n",
      "\t\n",
      "0.0115\n",
      "\t\n",
      "0.5748\n",
      "\t\n",
      "28.74\n",
      "\t\n",
      "0\n",
      "\n",
      "\n"
     ]
    },
    {
     "name": "stderr",
     "output_type": "stream",
     "text": [
      "/data/pinello/SHARED_SOFTWARE/anaconda_latest/envs/lingfei_dynet_stream2/lib/python3.7/site-packages/rpy2/rinterface/__init__.py:146: RRuntimeWarning: Registered S3 methods overwritten by 'ggplot2':\n",
      "  method         from \n",
      "  [.quosures     rlang\n",
      "  c.quosures     rlang\n",
      "  print.quosures rlang\n",
      "\n",
      "  warnings.warn(x, RRuntimeWarning)\n"
     ]
    },
    {
     "name": "stdout",
     "output_type": "stream",
     "text": [
      "58.518 sec elapsed\n",
      "\n",
      "[[1]]\n",
      "\n",
      "\n",
      "\n",
      "Number of branches after learning elastic principal graph: 3\n",
      "Extending leaves with additional nodes ...\n",
      "Number of branches after extending leaves: 3\n"
     ]
    }
   ],
   "source": [
    "#Parameters for STREAM\n",
    "ka1={'epg_alpha':0.05,'epg_mu':0.01,'epg_lambda':0.1,'epg_trimmingradius':2}\n",
    "ka2={'epg_ext_mode':'QuantDists','epg_ext_par':1.}\n",
    "\n",
    "#Construct adata only with coordinates\n",
    "adata=ad.AnnData(np.array([]).reshape(ns,0))\n",
    "adata.obs = pd.DataFrame([],index=d.index)\n",
    "adata.obsm['X_dr'] = d.values\n",
    "with TemporaryDirectory() as td:\n",
    "\t#Trajectory inference\n",
    "\tst.set_workdir(adata,td)\n",
    "\tst.elastic_principal_graph(adata,**ka1)\n",
    "\tst.extend_elastic_principal_graph(adata,**ka2)\n"
   ]
  },
  {
   "cell_type": "markdown",
   "metadata": {},
   "source": [
    "## Trajectory visualization\n",
    "Adjust parameters in the previous step to make sure you are happy with the inferred trajectory. Consider having several annotated low-dimensional plots (e.g. with cell type, read count, etc) at the side for trajectory evaluation. Record cell type/developmental stage annotations of the nodes (S0, ...) for future dynamic GRN analyses."
   ]
  },
  {
   "cell_type": "code",
   "execution_count": 5,
   "metadata": {},
   "outputs": [
    {
     "data": {
      "image/png": "[encoded data removed]",
      "text/plain": [
       "<Figure size 453.6x288 with 1 Axes>"
      ]
     },
     "metadata": {
      "needs_background": "light"
     },
     "output_type": "display_data"
    }
   ],
   "source": [
    "adata.obs['label'] = 'cell'\n",
    "st.plot_dimension_reduction(adata,show_graph=True,show_text=True)\n",
    "ax=plt.gca()\n",
    "ax.set_aspect(1)\n",
    "ax.axis('off');\n"
   ]
  },
  {
   "cell_type": "markdown",
   "metadata": {},
   "source": [
    "## Output trajectory\n",
    "Extraction"
   ]
  },
  {
   "cell_type": "code",
   "execution_count": 6,
   "metadata": {},
   "outputs": [],
   "source": [
    "dimnodes=np.array(sorted([x[:-len('_pseudotime')] for x in adata.obs.columns if x.endswith('_pseudotime')]))\n",
    "dist=np.array([adata.obs.loc[d.index,x+'_pseudotime'].values for x in dimnodes]).T\n",
    "ndict=dict(zip(dimnodes,range(len(dimnodes))))\n",
    "branch=np.array([sorted([ndict[y] for y in x]) for x in list(adata.obs.loc[d.index,'branch_id_alias'])])\n",
    "edge=np.unique(branch,axis=0)\n"
   ]
  },
  {
   "cell_type": "markdown",
   "metadata": {},
   "source": [
    "Formatting"
   ]
  },
  {
   "cell_type": "code",
   "execution_count": 7,
   "metadata": {},
   "outputs": [
    {
     "data": {
      "text/html": [
       "<div>\n",
       "<style scoped>\n",
       "    .dataframe tbody tr th:only-of-type {\n",
       "        vertical-align: middle;\n",
       "    }\n",
       "\n",
       "    .dataframe tbody tr th {\n",
       "        vertical-align: top;\n",
       "    }\n",
       "\n",
       "    .dataframe thead th {\n",
       "        text-align: right;\n",
       "    }\n",
       "</style>\n",
       "<table border=\"1\" class=\"dataframe\">\n",
       "  <thead>\n",
       "    <tr style=\"text-align: right;\">\n",
       "      <th></th>\n",
       "      <th>0</th>\n",
       "      <th>1</th>\n",
       "    </tr>\n",
       "  </thead>\n",
       "  <tbody>\n",
       "    <tr>\n",
       "      <th>Trial60.skin.R1.01.R2.02.R3.21.P1.56</th>\n",
       "      <td>0</td>\n",
       "      <td>1</td>\n",
       "    </tr>\n",
       "    <tr>\n",
       "      <th>Trial60.skin.R1.01.R2.03.R3.61.P1.54</th>\n",
       "      <td>0</td>\n",
       "      <td>2</td>\n",
       "    </tr>\n",
       "    <tr>\n",
       "      <th>Trial60.skin.R1.01.R2.06.R3.64.P1.56</th>\n",
       "      <td>0</td>\n",
       "      <td>1</td>\n",
       "    </tr>\n",
       "    <tr>\n",
       "      <th>Trial60.skin.R1.01.R2.06.R3.83.P1.55</th>\n",
       "      <td>0</td>\n",
       "      <td>1</td>\n",
       "    </tr>\n",
       "    <tr>\n",
       "      <th>Trial60.skin.R1.01.R2.11.R3.86.P1.56</th>\n",
       "      <td>0</td>\n",
       "      <td>1</td>\n",
       "    </tr>\n",
       "  </tbody>\n",
       "</table>\n",
       "</div>"
      ],
      "text/plain": [
       "                                      0  1\n",
       "Trial60.skin.R1.01.R2.02.R3.21.P1.56  0  1\n",
       "Trial60.skin.R1.01.R2.03.R3.61.P1.54  0  2\n",
       "Trial60.skin.R1.01.R2.06.R3.64.P1.56  0  1\n",
       "Trial60.skin.R1.01.R2.06.R3.83.P1.55  0  1\n",
       "Trial60.skin.R1.01.R2.11.R3.86.P1.56  0  1"
      ]
     },
     "execution_count": 7,
     "metadata": {},
     "output_type": "execute_result"
    }
   ],
   "source": [
    "#The branch each cell is on\n",
    "branch=pd.DataFrame(branch,index=d.index)\n",
    "branch.head()"
   ]
  },
  {
   "cell_type": "code",
   "execution_count": 8,
   "metadata": {},
   "outputs": [
    {
     "data": {
      "text/html": [
       "<div>\n",
       "<style scoped>\n",
       "    .dataframe tbody tr th:only-of-type {\n",
       "        vertical-align: middle;\n",
       "    }\n",
       "\n",
       "    .dataframe tbody tr th {\n",
       "        vertical-align: top;\n",
       "    }\n",
       "\n",
       "    .dataframe thead th {\n",
       "        text-align: right;\n",
       "    }\n",
       "</style>\n",
       "<table border=\"1\" class=\"dataframe\">\n",
       "  <thead>\n",
       "    <tr style=\"text-align: right;\">\n",
       "      <th></th>\n",
       "      <th>S0</th>\n",
       "      <th>S1</th>\n",
       "      <th>S2</th>\n",
       "      <th>S3</th>\n",
       "    </tr>\n",
       "  </thead>\n",
       "  <tbody>\n",
       "    <tr>\n",
       "      <th>Trial60.skin.R1.01.R2.02.R3.21.P1.56</th>\n",
       "      <td>1.796973</td>\n",
       "      <td>2.377683</td>\n",
       "      <td>10.384121</td>\n",
       "      <td>4.781205</td>\n",
       "    </tr>\n",
       "    <tr>\n",
       "      <th>Trial60.skin.R1.01.R2.03.R3.61.P1.54</th>\n",
       "      <td>8.058921</td>\n",
       "      <td>12.233577</td>\n",
       "      <td>0.528227</td>\n",
       "      <td>11.043153</td>\n",
       "    </tr>\n",
       "    <tr>\n",
       "      <th>Trial60.skin.R1.01.R2.06.R3.64.P1.56</th>\n",
       "      <td>3.439011</td>\n",
       "      <td>0.735645</td>\n",
       "      <td>12.026159</td>\n",
       "      <td>6.423243</td>\n",
       "    </tr>\n",
       "    <tr>\n",
       "      <th>Trial60.skin.R1.01.R2.06.R3.83.P1.55</th>\n",
       "      <td>1.028344</td>\n",
       "      <td>3.146313</td>\n",
       "      <td>9.615491</td>\n",
       "      <td>4.012575</td>\n",
       "    </tr>\n",
       "    <tr>\n",
       "      <th>Trial60.skin.R1.01.R2.11.R3.86.P1.56</th>\n",
       "      <td>1.677695</td>\n",
       "      <td>2.496962</td>\n",
       "      <td>10.264842</td>\n",
       "      <td>4.661926</td>\n",
       "    </tr>\n",
       "  </tbody>\n",
       "</table>\n",
       "</div>"
      ],
      "text/plain": [
       "                                            S0         S1         S2  \\\n",
       "Trial60.skin.R1.01.R2.02.R3.21.P1.56  1.796973   2.377683  10.384121   \n",
       "Trial60.skin.R1.01.R2.03.R3.61.P1.54  8.058921  12.233577   0.528227   \n",
       "Trial60.skin.R1.01.R2.06.R3.64.P1.56  3.439011   0.735645  12.026159   \n",
       "Trial60.skin.R1.01.R2.06.R3.83.P1.55  1.028344   3.146313   9.615491   \n",
       "Trial60.skin.R1.01.R2.11.R3.86.P1.56  1.677695   2.496962  10.264842   \n",
       "\n",
       "                                             S3  \n",
       "Trial60.skin.R1.01.R2.02.R3.21.P1.56   4.781205  \n",
       "Trial60.skin.R1.01.R2.03.R3.61.P1.54  11.043153  \n",
       "Trial60.skin.R1.01.R2.06.R3.64.P1.56   6.423243  \n",
       "Trial60.skin.R1.01.R2.06.R3.83.P1.55   4.012575  \n",
       "Trial60.skin.R1.01.R2.11.R3.86.P1.56   4.661926  "
      ]
     },
     "execution_count": 8,
     "metadata": {},
     "output_type": "execute_result"
    }
   ],
   "source": [
    "#Distance from each cell to all nodes\n",
    "dist=pd.DataFrame(dist,index=d.index,columns=dimnodes)\n",
    "dist.head()"
   ]
  },
  {
   "cell_type": "code",
   "execution_count": 9,
   "metadata": {},
   "outputs": [
    {
     "data": {
      "text/html": [
       "<div>\n",
       "<style scoped>\n",
       "    .dataframe tbody tr th:only-of-type {\n",
       "        vertical-align: middle;\n",
       "    }\n",
       "\n",
       "    .dataframe tbody tr th {\n",
       "        vertical-align: top;\n",
       "    }\n",
       "\n",
       "    .dataframe thead th {\n",
       "        text-align: right;\n",
       "    }\n",
       "</style>\n",
       "<table border=\"1\" class=\"dataframe\">\n",
       "  <thead>\n",
       "    <tr style=\"text-align: right;\">\n",
       "      <th></th>\n",
       "      <th>0</th>\n",
       "      <th>1</th>\n",
       "    </tr>\n",
       "  </thead>\n",
       "  <tbody>\n",
       "    <tr>\n",
       "      <th>0</th>\n",
       "      <td>0</td>\n",
       "      <td>1</td>\n",
       "    </tr>\n",
       "    <tr>\n",
       "      <th>1</th>\n",
       "      <td>0</td>\n",
       "      <td>2</td>\n",
       "    </tr>\n",
       "    <tr>\n",
       "      <th>2</th>\n",
       "      <td>0</td>\n",
       "      <td>3</td>\n",
       "    </tr>\n",
       "  </tbody>\n",
       "</table>\n",
       "</div>"
      ],
      "text/plain": [
       "   0  1\n",
       "0  0  1\n",
       "1  0  2\n",
       "2  0  3"
      ]
     },
     "execution_count": 9,
     "metadata": {},
     "output_type": "execute_result"
    }
   ],
   "source": [
    "#Edge existence between nodes\n",
    "edge=pd.DataFrame(edge)\n",
    "edge.head()"
   ]
  },
  {
   "cell_type": "markdown",
   "metadata": {},
   "source": [
    "Exporting"
   ]
  },
  {
   "cell_type": "code",
   "execution_count": 11,
   "metadata": {},
   "outputs": [],
   "source": [
    "dist.to_csv('../tmp/dist.tsv.gz',header=True,index=True,sep='\\t')\n",
    "edge.to_csv('../tmp/edge.tsv.gz',header=False,index=False,sep='\\t')\n",
    "branch.to_csv('../tmp/branch.tsv.gz',header=False,index=False,sep='\\t')\n"
   ]
  },
  {
   "cell_type": "code",
   "execution_count": null,
   "metadata": {},
   "outputs": [],
   "source": []
  },
  {
   "cell_type": "code",
   "execution_count": null,
   "metadata": {},
   "outputs": [],
   "source": []
  }
 ],
 "metadata": {
  "kernelspec": {
   "display_name": "stream2",
   "language": "python",
   "name": "stream2"
  },
  "language_info": {
   "codemirror_mode": {
    "name": "ipython",
    "version": 3
   },
   "file_extension": ".py",
   "mimetype": "text/x-python",
   "name": "python",
   "nbconvert_exporter": "python",
   "pygments_lexer": "ipython3",
   "version": "3.7.7"
  }
 },
 "nbformat": 4,
 "nbformat_minor": 2
}
