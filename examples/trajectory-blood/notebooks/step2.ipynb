{
 "cells": [
  {
   "cell_type": "markdown",
   "metadata": {},
   "source": [
    "# Reformat trajectory data for Dictys pipeline input\n",
    "## Load data\n"
   ]
  },
  {
   "cell_type": "code",
   "execution_count": 1,
   "metadata": {},
   "outputs": [],
   "source": [
    "import pandas as pd\n",
    "import dictys\n",
    "dist=pd.read_csv('../tmp/dist.tsv.gz',header=0,index_col=0,sep='\\t')\n",
    "edge=pd.read_csv('../tmp/edge.tsv.gz',header=None,index_col=None,sep='\\t')\n",
    "branch=pd.read_csv('../tmp/branch.tsv.gz',header=None,index_col=None,sep='\\t')\n"
   ]
  },
  {
   "cell_type": "markdown",
   "metadata": {},
   "source": [
    "## Map ATAC cells onto trajectory\n",
    "This step is unique to separate profiles of single-cell transcriptome and chromatin accessibility. Here ArchR (https://www.archrproject.com/) is used to map each ATAC cell to one RNA cell following its tutorial. The mapping is not performed here but only the results are provided in `../data/atac_map.tsv.gz` to map ATAC cells onto the trajectory.\n",
    "\n",
    "Other integration softwares are also compatible as long as they can provide a location for each ATAC cell on the trajectory inferred for RNA cells. This can be mapping each ATAC to RNA cell or to a new location without RNA cell, as long as they can be mapped to a location on the trajectory."
   ]
  },
  {
   "cell_type": "code",
   "execution_count": 2,
   "metadata": {},
   "outputs": [
    {
     "data": {
      "text/html": [
       "<div>\n",
       "<style scoped>\n",
       "    .dataframe tbody tr th:only-of-type {\n",
       "        vertical-align: middle;\n",
       "    }\n",
       "\n",
       "    .dataframe tbody tr th {\n",
       "        vertical-align: top;\n",
       "    }\n",
       "\n",
       "    .dataframe thead th {\n",
       "        text-align: right;\n",
       "    }\n",
       "</style>\n",
       "<table border=\"1\" class=\"dataframe\">\n",
       "  <thead>\n",
       "    <tr style=\"text-align: right;\">\n",
       "      <th></th>\n",
       "      <th>1</th>\n",
       "    </tr>\n",
       "    <tr>\n",
       "      <th>0</th>\n",
       "      <th></th>\n",
       "    </tr>\n",
       "  </thead>\n",
       "  <tbody>\n",
       "    <tr>\n",
       "      <th>scATAC_BMMC_D6T1#TGGTCCTGTATCTGCA-1</th>\n",
       "      <td>CD34_32_R5:GCAGCCATCGTTGCCT-1</td>\n",
       "    </tr>\n",
       "    <tr>\n",
       "      <th>scATAC_BMMC_D6T1#GCATTGAAGATTCCGT-1</th>\n",
       "      <td>BMMC_10x_GREENLEAF_REP1:CTCAATTTCAGGCGAA-1</td>\n",
       "    </tr>\n",
       "    <tr>\n",
       "      <th>scATAC_BMMC_D6T1#AGTTACGAGAACGTCG-1</th>\n",
       "      <td>BMMC_10x_GREENLEAF_REP2:CTCATGCTCCATGATG-1</td>\n",
       "    </tr>\n",
       "    <tr>\n",
       "      <th>scATAC_BMMC_D6T1#GCACCTTAGACTAGCG-1</th>\n",
       "      <td>BMMC_10x_GREENLEAF_REP1:CTCAATTTCAGGCGAA-1</td>\n",
       "    </tr>\n",
       "    <tr>\n",
       "      <th>scATAC_BMMC_D6T1#TGTAGCAGTCACTCTC-1</th>\n",
       "      <td>BMMC_10x_GREENLEAF_REP1:TCGGGTGCACTACGGC-1</td>\n",
       "    </tr>\n",
       "  </tbody>\n",
       "</table>\n",
       "</div>"
      ],
      "text/plain": [
       "                                                                              1\n",
       "0                                                                              \n",
       "scATAC_BMMC_D6T1#TGGTCCTGTATCTGCA-1               CD34_32_R5:GCAGCCATCGTTGCCT-1\n",
       "scATAC_BMMC_D6T1#GCATTGAAGATTCCGT-1  BMMC_10x_GREENLEAF_REP1:CTCAATTTCAGGCGAA-1\n",
       "scATAC_BMMC_D6T1#AGTTACGAGAACGTCG-1  BMMC_10x_GREENLEAF_REP2:CTCATGCTCCATGATG-1\n",
       "scATAC_BMMC_D6T1#GCACCTTAGACTAGCG-1  BMMC_10x_GREENLEAF_REP1:CTCAATTTCAGGCGAA-1\n",
       "scATAC_BMMC_D6T1#TGTAGCAGTCACTCTC-1  BMMC_10x_GREENLEAF_REP1:TCGGGTGCACTACGGC-1"
      ]
     },
     "execution_count": 2,
     "metadata": {},
     "output_type": "execute_result"
    }
   ],
   "source": [
    "#Load ATAC to RNA cell map\n",
    "dmap=pd.read_csv('../data/atac_map.tsv.gz',header=None,index_col=0,sep='\\t')\n",
    "dmap.head()"
   ]
  },
  {
   "cell_type": "code",
   "execution_count": 3,
   "metadata": {},
   "outputs": [
    {
     "data": {
      "text/html": [
       "<div>\n",
       "<style scoped>\n",
       "    .dataframe tbody tr th:only-of-type {\n",
       "        vertical-align: middle;\n",
       "    }\n",
       "\n",
       "    .dataframe tbody tr th {\n",
       "        vertical-align: top;\n",
       "    }\n",
       "\n",
       "    .dataframe thead th {\n",
       "        text-align: right;\n",
       "    }\n",
       "</style>\n",
       "<table border=\"1\" class=\"dataframe\">\n",
       "  <thead>\n",
       "    <tr style=\"text-align: right;\">\n",
       "      <th></th>\n",
       "      <th>S0</th>\n",
       "      <th>S1</th>\n",
       "      <th>S2</th>\n",
       "      <th>S3</th>\n",
       "    </tr>\n",
       "    <tr>\n",
       "      <th>0</th>\n",
       "      <th></th>\n",
       "      <th></th>\n",
       "      <th></th>\n",
       "      <th></th>\n",
       "    </tr>\n",
       "  </thead>\n",
       "  <tbody>\n",
       "    <tr>\n",
       "      <th>scATAC_BMMC_D6T1#TGGTCCTGTATCTGCA-1</th>\n",
       "      <td>6.999982</td>\n",
       "      <td>13.287467</td>\n",
       "      <td>16.496317</td>\n",
       "      <td>21.329984</td>\n",
       "    </tr>\n",
       "    <tr>\n",
       "      <th>scATAC_BMMC_D6T1#GCATTGAAGATTCCGT-1</th>\n",
       "      <td>8.625360</td>\n",
       "      <td>28.912809</td>\n",
       "      <td>18.121695</td>\n",
       "      <td>5.704642</td>\n",
       "    </tr>\n",
       "    <tr>\n",
       "      <th>scATAC_BMMC_D6T1#AGTTACGAGAACGTCG-1</th>\n",
       "      <td>9.961382</td>\n",
       "      <td>10.326067</td>\n",
       "      <td>19.457717</td>\n",
       "      <td>24.291384</td>\n",
       "    </tr>\n",
       "    <tr>\n",
       "      <th>scATAC_BMMC_D6T1#GCACCTTAGACTAGCG-1</th>\n",
       "      <td>8.625360</td>\n",
       "      <td>28.912809</td>\n",
       "      <td>18.121695</td>\n",
       "      <td>5.704642</td>\n",
       "    </tr>\n",
       "    <tr>\n",
       "      <th>scATAC_BMMC_D6T1#TGTAGCAGTCACTCTC-1</th>\n",
       "      <td>8.591259</td>\n",
       "      <td>11.696190</td>\n",
       "      <td>18.087594</td>\n",
       "      <td>22.921261</td>\n",
       "    </tr>\n",
       "  </tbody>\n",
       "</table>\n",
       "</div>"
      ],
      "text/plain": [
       "                                           S0         S1         S2         S3\n",
       "0                                                                             \n",
       "scATAC_BMMC_D6T1#TGGTCCTGTATCTGCA-1  6.999982  13.287467  16.496317  21.329984\n",
       "scATAC_BMMC_D6T1#GCATTGAAGATTCCGT-1  8.625360  28.912809  18.121695   5.704642\n",
       "scATAC_BMMC_D6T1#AGTTACGAGAACGTCG-1  9.961382  10.326067  19.457717  24.291384\n",
       "scATAC_BMMC_D6T1#GCACCTTAGACTAGCG-1  8.625360  28.912809  18.121695   5.704642\n",
       "scATAC_BMMC_D6T1#TGTAGCAGTCACTCTC-1  8.591259  11.696190  18.087594  22.921261"
      ]
     },
     "execution_count": 3,
     "metadata": {},
     "output_type": "execute_result"
    }
   ],
   "source": [
    "#Find ATAC cell distance to all nodes\n",
    "namedict=dict(zip(dist.index,range(len(dist.index))))\n",
    "dmap=dmap[dmap[1].isin(namedict)]\n",
    "dist_atac=dist.iloc[[namedict[x] for x in dmap[1].values]]\n",
    "dist_atac.index=dmap.index\n",
    "dist_atac.head()\n"
   ]
  },
  {
   "cell_type": "code",
   "execution_count": 4,
   "metadata": {},
   "outputs": [
    {
     "data": {
      "text/html": [
       "<div>\n",
       "<style scoped>\n",
       "    .dataframe tbody tr th:only-of-type {\n",
       "        vertical-align: middle;\n",
       "    }\n",
       "\n",
       "    .dataframe tbody tr th {\n",
       "        vertical-align: top;\n",
       "    }\n",
       "\n",
       "    .dataframe thead th {\n",
       "        text-align: right;\n",
       "    }\n",
       "</style>\n",
       "<table border=\"1\" class=\"dataframe\">\n",
       "  <thead>\n",
       "    <tr style=\"text-align: right;\">\n",
       "      <th></th>\n",
       "      <th>0</th>\n",
       "      <th>1</th>\n",
       "    </tr>\n",
       "  </thead>\n",
       "  <tbody>\n",
       "    <tr>\n",
       "      <th>7774</th>\n",
       "      <td>0</td>\n",
       "      <td>1</td>\n",
       "    </tr>\n",
       "    <tr>\n",
       "      <th>1365</th>\n",
       "      <td>0</td>\n",
       "      <td>3</td>\n",
       "    </tr>\n",
       "    <tr>\n",
       "      <th>4522</th>\n",
       "      <td>0</td>\n",
       "      <td>1</td>\n",
       "    </tr>\n",
       "    <tr>\n",
       "      <th>1365</th>\n",
       "      <td>0</td>\n",
       "      <td>3</td>\n",
       "    </tr>\n",
       "    <tr>\n",
       "      <th>2622</th>\n",
       "      <td>0</td>\n",
       "      <td>1</td>\n",
       "    </tr>\n",
       "  </tbody>\n",
       "</table>\n",
       "</div>"
      ],
      "text/plain": [
       "      0  1\n",
       "7774  0  1\n",
       "1365  0  3\n",
       "4522  0  1\n",
       "1365  0  3\n",
       "2622  0  1"
      ]
     },
     "execution_count": 4,
     "metadata": {},
     "output_type": "execute_result"
    }
   ],
   "source": [
    "#Find ATAC cell edge\n",
    "branch_atac=branch.iloc[[namedict[x] for x in dmap[1].values]]\n",
    "branch_atac.head()\n"
   ]
  },
  {
   "cell_type": "code",
   "execution_count": 5,
   "metadata": {},
   "outputs": [
    {
     "data": {
      "text/html": [
       "<div>\n",
       "<style scoped>\n",
       "    .dataframe tbody tr th:only-of-type {\n",
       "        vertical-align: middle;\n",
       "    }\n",
       "\n",
       "    .dataframe tbody tr th {\n",
       "        vertical-align: top;\n",
       "    }\n",
       "\n",
       "    .dataframe thead th {\n",
       "        text-align: right;\n",
       "    }\n",
       "</style>\n",
       "<table border=\"1\" class=\"dataframe\">\n",
       "  <thead>\n",
       "    <tr style=\"text-align: right;\">\n",
       "      <th></th>\n",
       "      <th>x</th>\n",
       "      <th>y</th>\n",
       "    </tr>\n",
       "    <tr>\n",
       "      <th>0</th>\n",
       "      <th></th>\n",
       "      <th></th>\n",
       "    </tr>\n",
       "  </thead>\n",
       "  <tbody>\n",
       "    <tr>\n",
       "      <th>scATAC_BMMC_D6T1#TGGTCCTGTATCTGCA-1</th>\n",
       "      <td>-9.591140</td>\n",
       "      <td>-1.699753</td>\n",
       "    </tr>\n",
       "    <tr>\n",
       "      <th>scATAC_BMMC_D6T1#GCATTGAAGATTCCGT-1</th>\n",
       "      <td>-0.043029</td>\n",
       "      <td>10.940800</td>\n",
       "    </tr>\n",
       "    <tr>\n",
       "      <th>scATAC_BMMC_D6T1#AGTTACGAGAACGTCG-1</th>\n",
       "      <td>-12.335616</td>\n",
       "      <td>-5.914646</td>\n",
       "    </tr>\n",
       "    <tr>\n",
       "      <th>scATAC_BMMC_D6T1#GCACCTTAGACTAGCG-1</th>\n",
       "      <td>-0.043029</td>\n",
       "      <td>10.940800</td>\n",
       "    </tr>\n",
       "    <tr>\n",
       "      <th>scATAC_BMMC_D6T1#TGTAGCAGTCACTCTC-1</th>\n",
       "      <td>-5.372774</td>\n",
       "      <td>-3.239048</td>\n",
       "    </tr>\n",
       "  </tbody>\n",
       "</table>\n",
       "</div>"
      ],
      "text/plain": [
       "                                             x          y\n",
       "0                                                        \n",
       "scATAC_BMMC_D6T1#TGGTCCTGTATCTGCA-1  -9.591140  -1.699753\n",
       "scATAC_BMMC_D6T1#GCATTGAAGATTCCGT-1  -0.043029  10.940800\n",
       "scATAC_BMMC_D6T1#AGTTACGAGAACGTCG-1 -12.335616  -5.914646\n",
       "scATAC_BMMC_D6T1#GCACCTTAGACTAGCG-1  -0.043029  10.940800\n",
       "scATAC_BMMC_D6T1#TGTAGCAGTCACTCTC-1  -5.372774  -3.239048"
      ]
     },
     "execution_count": 5,
     "metadata": {},
     "output_type": "execute_result"
    }
   ],
   "source": [
    "#Find ATAC cell coordinates in low dimensions\n",
    "coord=pd.read_csv('../data/coord_rna.tsv.gz',header=0,index_col=0,sep='\\t')\n",
    "coord_atac=coord.iloc[[namedict[x] for x in dmap[1].values]]\n",
    "coord_atac.index=dmap.index\n",
    "coord_atac.head()\n"
   ]
  },
  {
   "cell_type": "markdown",
   "metadata": {},
   "source": [
    "## Constructing objects"
   ]
  },
  {
   "cell_type": "code",
   "execution_count": 6,
   "metadata": {},
   "outputs": [],
   "source": [
    "traj=dictys.traj.trajectory.fromdist(edge.values,dist.values)\n",
    "point=dictys.traj.point.fromdist(traj,branch.values,dist.values)\n",
    "point_atac=dictys.traj.point.fromdist(traj,branch_atac.values,dist_atac.values)"
   ]
  },
  {
   "cell_type": "markdown",
   "metadata": {},
   "source": [
    "## Save data"
   ]
  },
  {
   "cell_type": "code",
   "execution_count": 7,
   "metadata": {},
   "outputs": [],
   "source": [
    "traj.to_file('../output/traj_node.h5')\n",
    "point.to_file('../output/traj_cell_rna.h5',traj=False)\n",
    "point_atac.to_file('../output/traj_cell_atac.h5',traj=False)\n",
    "coord_atac.to_csv('../output/coord_atac.tsv.gz',header=True,index=True,sep='\\t')\n"
   ]
  },
  {
   "cell_type": "code",
   "execution_count": null,
   "metadata": {},
   "outputs": [],
   "source": []
  },
  {
   "cell_type": "code",
   "execution_count": null,
   "metadata": {},
   "outputs": [],
   "source": []
  },
  {
   "cell_type": "code",
   "execution_count": null,
   "metadata": {},
   "outputs": [],
   "source": []
  },
  {
   "cell_type": "code",
   "execution_count": null,
   "metadata": {},
   "outputs": [],
   "source": []
  },
  {
   "cell_type": "code",
   "execution_count": null,
   "metadata": {},
   "outputs": [],
   "source": []
  },
  {
   "cell_type": "code",
   "execution_count": null,
   "metadata": {},
   "outputs": [],
   "source": []
  },
  {
   "cell_type": "code",
   "execution_count": null,
   "metadata": {},
   "outputs": [],
   "source": []
  },
  {
   "cell_type": "code",
   "execution_count": null,
   "metadata": {},
   "outputs": [],
   "source": []
  },
  {
   "cell_type": "code",
   "execution_count": null,
   "metadata": {},
   "outputs": [],
   "source": []
  },
  {
   "cell_type": "code",
   "execution_count": null,
   "metadata": {},
   "outputs": [],
   "source": []
  },
  {
   "cell_type": "code",
   "execution_count": null,
   "metadata": {},
   "outputs": [],
   "source": []
  },
  {
   "cell_type": "code",
   "execution_count": null,
   "metadata": {},
   "outputs": [],
   "source": []
  },
  {
   "cell_type": "code",
   "execution_count": null,
   "metadata": {},
   "outputs": [],
   "source": []
  },
  {
   "cell_type": "code",
   "execution_count": null,
   "metadata": {},
   "outputs": [],
   "source": []
  },
  {
   "cell_type": "code",
   "execution_count": null,
   "metadata": {},
   "outputs": [],
   "source": []
  },
  {
   "cell_type": "code",
   "execution_count": null,
   "metadata": {},
   "outputs": [],
   "source": []
  },
  {
   "cell_type": "code",
   "execution_count": null,
   "metadata": {},
   "outputs": [],
   "source": []
  },
  {
   "cell_type": "code",
   "execution_count": null,
   "metadata": {},
   "outputs": [],
   "source": []
  },
  {
   "cell_type": "code",
   "execution_count": null,
   "metadata": {},
   "outputs": [],
   "source": []
  },
  {
   "cell_type": "code",
   "execution_count": null,
   "metadata": {},
   "outputs": [],
   "source": []
  },
  {
   "cell_type": "code",
   "execution_count": null,
   "metadata": {},
   "outputs": [],
   "source": []
  },
  {
   "cell_type": "code",
   "execution_count": null,
   "metadata": {},
   "outputs": [],
   "source": []
  },
  {
   "cell_type": "code",
   "execution_count": null,
   "metadata": {},
   "outputs": [],
   "source": []
  },
  {
   "cell_type": "code",
   "execution_count": null,
   "metadata": {},
   "outputs": [],
   "source": []
  },
  {
   "cell_type": "code",
   "execution_count": null,
   "metadata": {},
   "outputs": [],
   "source": []
  },
  {
   "cell_type": "code",
   "execution_count": null,
   "metadata": {},
   "outputs": [],
   "source": []
  },
  {
   "cell_type": "code",
   "execution_count": null,
   "metadata": {},
   "outputs": [],
   "source": []
  },
  {
   "cell_type": "code",
   "execution_count": null,
   "metadata": {},
   "outputs": [],
   "source": []
  },
  {
   "cell_type": "code",
   "execution_count": null,
   "metadata": {},
   "outputs": [],
   "source": []
  },
  {
   "cell_type": "code",
   "execution_count": null,
   "metadata": {},
   "outputs": [],
   "source": []
  },
  {
   "cell_type": "code",
   "execution_count": null,
   "metadata": {},
   "outputs": [],
   "source": []
  },
  {
   "cell_type": "code",
   "execution_count": null,
   "metadata": {},
   "outputs": [],
   "source": []
  },
  {
   "cell_type": "code",
   "execution_count": null,
   "metadata": {},
   "outputs": [],
   "source": []
  },
  {
   "cell_type": "code",
   "execution_count": null,
   "metadata": {},
   "outputs": [],
   "source": []
  },
  {
   "cell_type": "code",
   "execution_count": null,
   "metadata": {},
   "outputs": [],
   "source": []
  },
  {
   "cell_type": "code",
   "execution_count": null,
   "metadata": {},
   "outputs": [],
   "source": []
  },
  {
   "cell_type": "code",
   "execution_count": null,
   "metadata": {},
   "outputs": [],
   "source": []
  },
  {
   "cell_type": "code",
   "execution_count": null,
   "metadata": {},
   "outputs": [],
   "source": []
  },
  {
   "cell_type": "code",
   "execution_count": null,
   "metadata": {},
   "outputs": [],
   "source": []
  },
  {
   "cell_type": "code",
   "execution_count": null,
   "metadata": {},
   "outputs": [],
   "source": []
  },
  {
   "cell_type": "code",
   "execution_count": null,
   "metadata": {},
   "outputs": [],
   "source": []
  },
  {
   "cell_type": "code",
   "execution_count": null,
   "metadata": {},
   "outputs": [],
   "source": []
  },
  {
   "cell_type": "code",
   "execution_count": null,
   "metadata": {},
   "outputs": [],
   "source": []
  },
  {
   "cell_type": "code",
   "execution_count": null,
   "metadata": {},
   "outputs": [],
   "source": []
  },
  {
   "cell_type": "code",
   "execution_count": null,
   "metadata": {},
   "outputs": [],
   "source": []
  },
  {
   "cell_type": "code",
   "execution_count": null,
   "metadata": {},
   "outputs": [],
   "source": []
  },
  {
   "cell_type": "code",
   "execution_count": null,
   "metadata": {},
   "outputs": [],
   "source": []
  },
  {
   "cell_type": "code",
   "execution_count": null,
   "metadata": {},
   "outputs": [],
   "source": []
  },
  {
   "cell_type": "code",
   "execution_count": null,
   "metadata": {},
   "outputs": [],
   "source": []
  },
  {
   "cell_type": "code",
   "execution_count": null,
   "metadata": {},
   "outputs": [],
   "source": []
  },
  {
   "cell_type": "code",
   "execution_count": null,
   "metadata": {},
   "outputs": [],
   "source": []
  },
  {
   "cell_type": "code",
   "execution_count": null,
   "metadata": {},
   "outputs": [],
   "source": []
  },
  {
   "cell_type": "code",
   "execution_count": null,
   "metadata": {},
   "outputs": [],
   "source": []
  },
  {
   "cell_type": "code",
   "execution_count": null,
   "metadata": {},
   "outputs": [],
   "source": []
  },
  {
   "cell_type": "code",
   "execution_count": null,
   "metadata": {},
   "outputs": [],
   "source": []
  },
  {
   "cell_type": "code",
   "execution_count": null,
   "metadata": {},
   "outputs": [],
   "source": []
  },
  {
   "cell_type": "code",
   "execution_count": null,
   "metadata": {},
   "outputs": [],
   "source": []
  },
  {
   "cell_type": "code",
   "execution_count": null,
   "metadata": {},
   "outputs": [],
   "source": []
  },
  {
   "cell_type": "code",
   "execution_count": null,
   "metadata": {},
   "outputs": [],
   "source": []
  },
  {
   "cell_type": "code",
   "execution_count": null,
   "metadata": {},
   "outputs": [],
   "source": []
  },
  {
   "cell_type": "code",
   "execution_count": null,
   "metadata": {},
   "outputs": [],
   "source": []
  },
  {
   "cell_type": "code",
   "execution_count": null,
   "metadata": {},
   "outputs": [],
   "source": []
  },
  {
   "cell_type": "code",
   "execution_count": null,
   "metadata": {},
   "outputs": [],
   "source": []
  },
  {
   "cell_type": "code",
   "execution_count": null,
   "metadata": {},
   "outputs": [],
   "source": []
  },
  {
   "cell_type": "code",
   "execution_count": null,
   "metadata": {},
   "outputs": [],
   "source": []
  }
 ],
 "metadata": {
  "kernelspec": {
   "display_name": "Python 3",
   "language": "python",
   "name": "python3"
  },
  "language_info": {
   "codemirror_mode": {
    "name": "ipython",
    "version": 3
   },
   "file_extension": ".py",
   "mimetype": "text/x-python",
   "name": "python",
   "nbconvert_exporter": "python",
   "pygments_lexer": "ipython3",
   "version": "3.9.5"
  }
 },
 "nbformat": 4,
 "nbformat_minor": 2
}
