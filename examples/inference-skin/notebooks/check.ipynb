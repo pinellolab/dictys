{
 "cells": [
  {
   "cell_type": "markdown",
   "metadata": {},
   "source": [
    "# Checks of input data before GRN inference run"
   ]
  },
  {
   "cell_type": "code",
   "execution_count": 1,
   "metadata": {},
   "outputs": [],
   "source": [
    "from os.path import join as pjoin\n",
    "from os.path import exists as pexists\n",
    "from os import listdir\n",
    "import itertools\n",
    "import numpy as np\n",
    "import pandas as pd\n",
    "from dictys.traj import trajectory,point\n",
    "\n",
    "dirdata='../data'\n",
    "dirmakefiles='../makefiles'"
   ]
  },
  {
   "cell_type": "code",
   "execution_count": 2,
   "metadata": {
    "scrolled": true
   },
   "outputs": [
    {
     "name": "stdout",
     "output_type": "stream",
     "text": [
      "Joint profile: True\n"
     ]
    }
   ],
   "source": [
    "#Detect whether joint profiles from makefile\n",
    "with open(pjoin(dirmakefiles,'config.mk'),'r') as f:\n",
    "\ts=f.readlines()\n",
    "s=[x.strip() for x in s if x.startswith('JOINT=')][-1]\n",
    "s=s[len('JOINT='):]\n",
    "if s not in {'0','1'}:\n",
    "\traise ValueError('Invalid JOINT variable in '+pjoin(dirmakefiles,'config.mk'))\n",
    "isjoint=s=='1'\n",
    "print(f'Joint profile: {isjoint}')\n"
   ]
  },
  {
   "cell_type": "code",
   "execution_count": 3,
   "metadata": {},
   "outputs": [
    {
     "name": "stdout",
     "output_type": "stream",
     "text": [
      "Found 34774 cells with RNA profile\n",
      "Found 20285 genes with RNA profile\n"
     ]
    }
   ],
   "source": [
    "#Gene & cell names from RNA\n",
    "namec_rna=pd.read_csv(pjoin(dirdata,'expression.tsv.gz'),header=0,index_col=0,sep='\\t',nrows=1)\n",
    "namec_rna=np.array(namec_rna.columns)\n",
    "snamec_rna=set(namec_rna)\n",
    "print(f'Found {len(namec_rna)} cells with RNA profile')\n",
    "if len(namec_rna)<100:\n",
    "\traise ValueError('<100 cells found with RNA profile')\n",
    "nameg=pd.read_csv(pjoin(dirdata,'expression.tsv.gz'),header=0,index_col=0,sep='\\t',usecols=[0,1])\n",
    "nameg=np.array(nameg.index)\n",
    "snameg=set(nameg)\n",
    "print(f'Found {len(nameg)} genes with RNA profile')\n",
    "if len(nameg)<100:\n",
    "\traise ValueError('<100 genes found with RNA profile')\n"
   ]
  },
  {
   "cell_type": "code",
   "execution_count": 4,
   "metadata": {},
   "outputs": [
    {
     "name": "stdout",
     "output_type": "stream",
     "text": [
      "Found 34774 cells with ATAC profile\n"
     ]
    }
   ],
   "source": [
    "#Cell names from ATAC\n",
    "namec_atac=listdir(pjoin(dirdata,'bams'))\n",
    "namec_atac=np.array(['.'.join(x.split('.')[:-1]) for x in namec_atac if x.endswith('.bam')])\n",
    "snamec_atac=set(namec_atac)\n",
    "print(f'Found {len(namec_atac)} cells with ATAC profile')\n",
    "if isjoint and len(snamec_rna-snamec_atac)>0:\n",
    "\traise FileNotFoundError('Not all cells with RNA profile has a bam file in bams folder for the joint profiling dataset.')\n"
   ]
  },
  {
   "cell_type": "code",
   "execution_count": 5,
   "metadata": {},
   "outputs": [
    {
     "name": "stdout",
     "output_type": "stream",
     "text": [
      "Found 529 motifs\n",
      "Found 451 TFs\n",
      "Found 402 TFs in current dataset\n",
      "Missing 49 TFs in current dataset: Ascl1,Ascl2,Atoh1,Barx1,Cebpd,Crx,Etv2,Foxa1,Foxa2,Foxf2,Foxi1,Foxl2,Gata2,Gata5,Hand1,Hesx1,Hoxa13,Hoxd13,Insm1,Lhx3,Lyl1,Msgn1,Msx3,Neurod1,Neurod2,Neurog2,Nkx2-1,Nkx2-2,Nkx2-5,Nkx2-8,Nkx3-2,Nkx6-1,Nr1i3,Nr2e3,Olig2,Onecut1,Pou4f2,Prop1,Ptf1a,Six2,Sox17,Sox3,Sp5,Spz1,Sry,Tlx1,Ubp1,Usf1,Usf2\n"
     ]
    }
   ],
   "source": [
    "#TF names from motifs\n",
    "with open(pjoin(dirdata,'motifs.motif'),'r') as f:\n",
    "\tnameg_motif=f.readlines()\n",
    "nameg_motif=[x.split('\\t')[1] for x in nameg_motif if x.startswith('>')]\n",
    "if len(nameg_motif)!=len(set(nameg_motif)):\n",
    "\traise ValueError('Duplicate motifs found')\n",
    "print(f'Found {len(nameg_motif)} motifs')\n",
    "nameg_motif=set([x.split('_')[0] for x in nameg_motif])\n",
    "print(f'Found {len(nameg_motif)} TFs')\n",
    "nameg_motif_notfound=sorted(nameg_motif-set(nameg))\n",
    "nameg_motif=sorted(nameg_motif&set(nameg))\n",
    "snameg_motif=set(nameg_motif)\n",
    "print(f'Found {len(nameg_motif)} TFs in current dataset')\n",
    "print(f'Missing {len(nameg_motif_notfound)} TFs in current dataset: '+','.join(nameg_motif_notfound))\n",
    "if len(nameg_motif)<10:\n",
    "\traise ValueError('<10 TFs found')"
   ]
  },
  {
   "cell_type": "code",
   "execution_count": 6,
   "metadata": {},
   "outputs": [
    {
     "name": "stdout",
     "output_type": "stream",
     "text": [
      "Found 19617 genes with TSS information\n"
     ]
    }
   ],
   "source": [
    "#Chromosomes and gene names from bed file\n",
    "with open(pjoin(dirdata,'gene.bed'),'r') as f:\n",
    "\tnameg_bed=f.readlines()\n",
    "nameg_bed=[x.strip() for x in nameg_bed]\n",
    "nameg_bed=[x.split('\\t') for x in nameg_bed if len(x)>0]\n",
    "if len(set([len(x) for x in nameg_bed]))!=1:\n",
    "\traise ValueError('Unequal number of columns in gene.bed')\n",
    "nameg_bed=list(filter(lambda x:x[3] in snameg,nameg_bed))\n",
    "if len(nameg_bed[0])<6:\n",
    "\tlogging.warn('No strand information in gene.bed')\n",
    "namechr_bed=sorted(set([x[0] for x in nameg_bed]))\n",
    "snamechr_bed=set(namechr_bed)\n",
    "nameg_bed=[x[3] for x in nameg_bed]\n",
    "snameg_bed=set(nameg_bed)\n",
    "if len(nameg_bed)!=len(snameg_bed):\n",
    "\traise ValueError('Duplicate gene found in gene.bed')\n",
    "nameg_bed=sorted(nameg_bed)\n",
    "print(f'Found {len(nameg_bed)} genes with TSS information')\n",
    "if len(nameg_bed)<100:\n",
    "\traise ValueError('<100 genes with TSS information')\n"
   ]
  },
  {
   "cell_type": "code",
   "execution_count": 7,
   "metadata": {},
   "outputs": [],
   "source": [
    "#Ref genome chromosomes\n",
    "namechr=listdir(pjoin(dirdata,'genome'))\n",
    "namechr=[x[:-len('.fa')] for x in namechr if x.endswith('.fa')]\n",
    "snamechr=set(namechr)\n",
    "if len(snamechr_bed-snamechr)>0:\n",
    "\tlogging.warn('Chromosomes not found in genome: '+','.join(sorted(snamechr_bed-snamechr)))\n"
   ]
  },
  {
   "cell_type": "code",
   "execution_count": 8,
   "metadata": {},
   "outputs": [],
   "source": [
    "#Blacklist chromosomes\n",
    "if pexists(pjoin(dirdata,'blacklist.bed')):\n",
    "\twith open(pjoin(dirdata,'blacklist.bed'),'r') as f:\n",
    "\t\tnamechr_bl=f.readlines()\n",
    "\tnamechr_bl=[x.strip() for x in namechr_bl]\n",
    "\tnamechr_bl=[x.split('\\t')[0] for x in namechr_bl if len(x)>0]\n",
    "\tsnamechr_bl=set(namechr_bl)\n",
    "\tif len(snamechr_bl-namechr_bl)>0:\n",
    "\t\tlogging.warn('Blacklist chromosomes not found in genome: '+','.join(sorted(snamechr_bl-namechr_bl)))\n"
   ]
  },
  {
   "cell_type": "markdown",
   "metadata": {},
   "source": [
    "## For context specific GRN inference only"
   ]
  },
  {
   "cell_type": "code",
   "execution_count": 9,
   "metadata": {},
   "outputs": [],
   "source": [
    "#Subsets\n",
    "with open(pjoin(dirdata,'subsets.txt'),'r') as f:\n",
    "\tnames=f.readlines()\n",
    "names=[x.strip() for x in names]\n",
    "names=list(filter(lambda x:len(x)>0,names))"
   ]
  },
  {
   "cell_type": "code",
   "execution_count": 10,
   "metadata": {},
   "outputs": [],
   "source": [
    "#Cell names in each subset\n",
    "\n",
    "#Loading cell names\n",
    "namec_srna=[]\n",
    "namec_satac=[]\n",
    "for xi in names:\n",
    "\twith open(pjoin(dirdata,'subsets',xi,'names_rna.txt'),'r') as f:\n",
    "\t\tt1=f.readlines()\n",
    "\tt1=[x.strip() for x in t1]\n",
    "\tt1=list(filter(lambda x:len(x)>0,t1))\n",
    "\tnamec_srna.append(t1)\n",
    "\twith open(pjoin(dirdata,'subsets',xi,'names_atac.txt'),'r') as f:\n",
    "\t\tt1=f.readlines()\n",
    "\tt1=[x.strip() for x in t1]\n",
    "\tt1=list(filter(lambda x:len(x)>0,t1))\n",
    "\tnamec_satac.append(t1)\n",
    "snamec_srna,snamec_satac=[[set(y) for y in x] for x in [namec_srna,namec_satac]]\n",
    "\n",
    "#Checking cell names\n",
    "t1=list(itertools.chain.from_iterable(namec_srna))\n",
    "if len(t1)!=len(set(t1)):\n",
    "\traise ValueError('Found RNA cells assigned to multiple subsets')\n",
    "t1=set(t1)\n",
    "if len(t1-snamec_rna)>0:\n",
    "\traise ValueError('Subset RNA cells not found in population')\n",
    "if len(snamec_rna-t1)>0:\n",
    "\tlogging.warn('Found RNA cells not assigned to any subset')\n",
    "\n",
    "if isjoint:\n",
    "\tif any([frozenset(x)!=frozenset(y) for x,y in zip(snamec_srna,snamec_satac)]):\n",
    "\t\traise ValueError('Subset assignments must be identical for joint profiles.')\n",
    "else:\n",
    "\tt1=list(itertools.chain.from_iterable(namec_satac))\n",
    "\tif len(t1)!=len(set(t1)):\n",
    "\t\traise ValueError('Found ATAC cells assigned to multiple subsets')\n",
    "\tt1=set(t1)\n",
    "\tif len(t1-snamec_atac)>0:\n",
    "\t\traise ValueError('Subset ATAC cells not found in population')\n",
    "\tif len(snamec_atac-t1)>0:\n",
    "\t\tlogging.warn('Found ATAC cells not assigned to any subset')\n"
   ]
  },
  {
   "cell_type": "markdown",
   "metadata": {},
   "source": [
    "## For dynamic GRN inference only"
   ]
  },
  {
   "cell_type": "code",
   "execution_count": 11,
   "metadata": {},
   "outputs": [],
   "source": [
    "#For RNA\n",
    "traj=trajectory.from_file(pjoin(dirdata,'traj_node.h5'))\n",
    "pt_rna=point.from_file(traj,pjoin(dirdata,'traj_cell_rna.h5'))\n",
    "coord_rna=pd.read_csv(pjoin(dirdata,'coord_rna.tsv.gz'),header=0,index_col=0,sep='\\t')\n",
    "if len(set(coord_rna.index)-snamec_rna)>0:\n",
    "\traise ValueError('Low dimensional RNA cells not found in population')\n",
    "if len(coord_rna)!=len(pt_rna):\n",
    "\traise ValueError('Inconsistent RNA cell count between coord_rna.tsv.gz and traj_cell_rna.h5')\n",
    "#For ATAC\n",
    "if not isjoint:\n",
    "\tpt_atac=point.from_file(traj,pjoin(dirdata,'traj_cell_atac.h5'))\n",
    "\tcoord_atac=pd.read_csv(pjoin(dirdata,'coord_atac.tsv.gz'),header=0,index_col=0,sep='\\t')\n",
    "\tif len(set(coord_atac.index)-snamec_atac)>0:\n",
    "\t\traise ValueError('Low dimensional ATAC cells not found in population')\n",
    "\tif len(coord_atac)!=len(pt_atac):\n",
    "\t\traise ValueError('Inconsistent ATAC cell count between coord_atac.tsv.gz and traj_cell_atac.h5')\n"
   ]
  },
  {
   "cell_type": "code",
   "execution_count": null,
   "metadata": {},
   "outputs": [],
   "source": []
  },
  {
   "cell_type": "code",
   "execution_count": null,
   "metadata": {},
   "outputs": [],
   "source": []
  },
  {
   "cell_type": "code",
   "execution_count": null,
   "metadata": {},
   "outputs": [],
   "source": []
  },
  {
   "cell_type": "code",
   "execution_count": null,
   "metadata": {},
   "outputs": [],
   "source": []
  },
  {
   "cell_type": "code",
   "execution_count": null,
   "metadata": {},
   "outputs": [],
   "source": []
  },
  {
   "cell_type": "code",
   "execution_count": null,
   "metadata": {},
   "outputs": [],
   "source": []
  },
  {
   "cell_type": "code",
   "execution_count": null,
   "metadata": {},
   "outputs": [],
   "source": []
  },
  {
   "cell_type": "code",
   "execution_count": null,
   "metadata": {},
   "outputs": [],
   "source": []
  },
  {
   "cell_type": "code",
   "execution_count": null,
   "metadata": {},
   "outputs": [],
   "source": []
  },
  {
   "cell_type": "code",
   "execution_count": null,
   "metadata": {},
   "outputs": [],
   "source": []
  },
  {
   "cell_type": "code",
   "execution_count": null,
   "metadata": {},
   "outputs": [],
   "source": []
  },
  {
   "cell_type": "code",
   "execution_count": null,
   "metadata": {},
   "outputs": [],
   "source": []
  },
  {
   "cell_type": "code",
   "execution_count": null,
   "metadata": {},
   "outputs": [],
   "source": []
  },
  {
   "cell_type": "code",
   "execution_count": null,
   "metadata": {},
   "outputs": [],
   "source": []
  },
  {
   "cell_type": "code",
   "execution_count": null,
   "metadata": {},
   "outputs": [],
   "source": []
  },
  {
   "cell_type": "code",
   "execution_count": null,
   "metadata": {},
   "outputs": [],
   "source": []
  },
  {
   "cell_type": "code",
   "execution_count": null,
   "metadata": {},
   "outputs": [],
   "source": []
  },
  {
   "cell_type": "code",
   "execution_count": null,
   "metadata": {},
   "outputs": [],
   "source": []
  },
  {
   "cell_type": "code",
   "execution_count": null,
   "metadata": {},
   "outputs": [],
   "source": []
  },
  {
   "cell_type": "code",
   "execution_count": null,
   "metadata": {},
   "outputs": [],
   "source": []
  },
  {
   "cell_type": "code",
   "execution_count": null,
   "metadata": {},
   "outputs": [],
   "source": []
  },
  {
   "cell_type": "code",
   "execution_count": null,
   "metadata": {},
   "outputs": [],
   "source": []
  },
  {
   "cell_type": "code",
   "execution_count": null,
   "metadata": {},
   "outputs": [],
   "source": []
  },
  {
   "cell_type": "code",
   "execution_count": null,
   "metadata": {},
   "outputs": [],
   "source": []
  },
  {
   "cell_type": "code",
   "execution_count": null,
   "metadata": {},
   "outputs": [],
   "source": []
  },
  {
   "cell_type": "code",
   "execution_count": null,
   "metadata": {},
   "outputs": [],
   "source": []
  },
  {
   "cell_type": "code",
   "execution_count": null,
   "metadata": {},
   "outputs": [],
   "source": []
  },
  {
   "cell_type": "code",
   "execution_count": null,
   "metadata": {},
   "outputs": [],
   "source": []
  },
  {
   "cell_type": "code",
   "execution_count": null,
   "metadata": {},
   "outputs": [],
   "source": []
  },
  {
   "cell_type": "code",
   "execution_count": null,
   "metadata": {},
   "outputs": [],
   "source": []
  },
  {
   "cell_type": "code",
   "execution_count": null,
   "metadata": {},
   "outputs": [],
   "source": []
  },
  {
   "cell_type": "code",
   "execution_count": null,
   "metadata": {},
   "outputs": [],
   "source": []
  },
  {
   "cell_type": "code",
   "execution_count": null,
   "metadata": {},
   "outputs": [],
   "source": []
  },
  {
   "cell_type": "code",
   "execution_count": null,
   "metadata": {},
   "outputs": [],
   "source": []
  },
  {
   "cell_type": "code",
   "execution_count": null,
   "metadata": {},
   "outputs": [],
   "source": []
  },
  {
   "cell_type": "code",
   "execution_count": null,
   "metadata": {},
   "outputs": [],
   "source": []
  },
  {
   "cell_type": "code",
   "execution_count": null,
   "metadata": {},
   "outputs": [],
   "source": []
  },
  {
   "cell_type": "code",
   "execution_count": null,
   "metadata": {},
   "outputs": [],
   "source": []
  },
  {
   "cell_type": "code",
   "execution_count": null,
   "metadata": {},
   "outputs": [],
   "source": []
  },
  {
   "cell_type": "code",
   "execution_count": null,
   "metadata": {},
   "outputs": [],
   "source": []
  },
  {
   "cell_type": "code",
   "execution_count": null,
   "metadata": {},
   "outputs": [],
   "source": []
  },
  {
   "cell_type": "code",
   "execution_count": null,
   "metadata": {},
   "outputs": [],
   "source": []
  },
  {
   "cell_type": "code",
   "execution_count": null,
   "metadata": {},
   "outputs": [],
   "source": []
  },
  {
   "cell_type": "code",
   "execution_count": null,
   "metadata": {},
   "outputs": [],
   "source": []
  },
  {
   "cell_type": "code",
   "execution_count": null,
   "metadata": {},
   "outputs": [],
   "source": []
  },
  {
   "cell_type": "code",
   "execution_count": null,
   "metadata": {},
   "outputs": [],
   "source": []
  },
  {
   "cell_type": "code",
   "execution_count": null,
   "metadata": {},
   "outputs": [],
   "source": []
  },
  {
   "cell_type": "code",
   "execution_count": null,
   "metadata": {},
   "outputs": [],
   "source": []
  }
 ],
 "metadata": {
  "kernelspec": {
   "display_name": "Python 3",
   "language": "python",
   "name": "python3"
  },
  "language_info": {
   "codemirror_mode": {
    "name": "ipython",
    "version": 3
   },
   "file_extension": ".py",
   "mimetype": "text/x-python",
   "name": "python",
   "nbconvert_exporter": "python",
   "pygments_lexer": "ipython3",
   "version": "3.9.5"
  }
 },
 "nbformat": 4,
 "nbformat_minor": 2
}
